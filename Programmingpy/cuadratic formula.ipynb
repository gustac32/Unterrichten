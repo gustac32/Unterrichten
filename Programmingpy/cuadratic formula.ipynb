{
 "cells": [
  {
   "cell_type": "code",
   "execution_count": 59,
   "id": "873efe01",
   "metadata": {},
   "outputs": [
    {
     "name": "stdout",
     "output_type": "stream",
     "text": [
      "22\n",
      "22\n",
      "2\n",
      "x1 = -0.10113798239126716\n",
      "x2 = -0.898862017608733\n"
     ]
    }
   ],
   "source": [
    "import math\n",
    "import sys\n",
    "\n",
    "def testR():\n",
    "    x = int(input())\n",
    "    y = int(input())\n",
    "    z = int(input())\n",
    "    discri = (y * y) - (4*x*z)\n",
    "    if discri < 0:\n",
    "        sys.exit(\"imaginario\")\n",
    "        system.exit()\n",
    "    elif discri >= 0:\n",
    "        sqrtval = math.sqrt(discri)\n",
    "        \n",
    "    cuadr = ((-y + sqrtval))/(2*x)\n",
    "    cuad  = ((-y - sqrtval))/(2*x)\n",
    "    x1 = \"x1 =\"\n",
    "    x2 = \"x2 =\"\n",
    "    print(x1 + \" \" + str(cuadr))\n",
    "    print(x2 + \" \" + str(cuad))\n",
    "testR()\n"
   ]
  },
  {
   "cell_type": "markdown",
   "id": "8800a2ec",
   "metadata": {},
   "source": []
  },
  {
   "cell_type": "code",
   "execution_count": 14,
   "id": "8ee1895b",
   "metadata": {},
   "outputs": [
    {
     "name": "stdout",
     "output_type": "stream",
     "text": [
      "-2\n",
      "x is negative,therefore absolute value will be applied\n"
     ]
    },
    {
     "ename": "SystemExit",
     "evalue": "the absolute value of x is: 2.0",
     "output_type": "error",
     "traceback": [
      "An exception has occurred, use %tb to see the full traceback.\n",
      "\u001b[0;31mSystemExit\u001b[0m\u001b[0;31m:\u001b[0m the absolute value of x is: 2.0\n"
     ]
    }
   ],
   "source": [
    "import sys \n",
    "x = float(input())\n",
    "if x < 0:\n",
    "    print(\"x is negative\")\n",
    "    y = str(abs(x))\n",
    "    sys.exit(\"the absolute value of x is:\" + \" \" +y)\n",
    "elif x >= 0:\n",
    "    y = str(abs(x))\n",
    "    sys.exit(\"the absolute value of x is:\" +\" \" +z)"
   ]
  },
  {
   "cell_type": "code",
   "execution_count": null,
   "id": "425ab8ca",
   "metadata": {},
   "outputs": [],
   "source": []
  },
  {
   "cell_type": "code",
   "execution_count": null,
   "id": "7eb81481",
   "metadata": {},
   "outputs": [],
   "source": []
  },
  {
   "cell_type": "code",
   "execution_count": null,
   "id": "46a5c94a",
   "metadata": {},
   "outputs": [],
   "source": []
  }
 ],
 "metadata": {
  "kernelspec": {
   "display_name": "Python 3 (ipykernel)",
   "language": "python",
   "name": "python3"
  },
  "language_info": {
   "codemirror_mode": {
    "name": "ipython",
    "version": 3
   },
   "file_extension": ".py",
   "mimetype": "text/x-python",
   "name": "python",
   "nbconvert_exporter": "python",
   "pygments_lexer": "ipython3",
   "version": "3.9.12"
  }
 },
 "nbformat": 4,
 "nbformat_minor": 5
}
