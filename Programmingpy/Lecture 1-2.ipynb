{
 "cells": [
  {
   "cell_type": "code",
   "execution_count": 2,
   "id": "4c06de67",
   "metadata": {},
   "outputs": [
    {
     "name": "stdout",
     "output_type": "stream",
     "text": [
      "46\n"
     ]
    }
   ],
   "source": [
    "#add two numbers\n",
    "#12 and 14\n",
    "\n",
    "#Assign the variables\n",
    "A = 12\n",
    "B = 34\n",
    "\n",
    "#Addition\n",
    "C = A + B\n",
    "\n",
    "#PRINT THE RESULTS\n",
    "print(C)\n",
    "\n",
    "A = C"
   ]
  },
  {
   "cell_type": "code",
   "execution_count": 4,
   "id": "402de957",
   "metadata": {},
   "outputs": [
    {
     "name": "stdout",
     "output_type": "stream",
     "text": [
      "46\n"
     ]
    }
   ],
   "source": [
    "A = C\n",
    "print(A)"
   ]
  },
  {
   "cell_type": "code",
   "execution_count": 6,
   "id": "40dd0e57",
   "metadata": {},
   "outputs": [
    {
     "name": "stdout",
     "output_type": "stream",
     "text": [
      "50\n"
     ]
    }
   ],
   "source": [
    "x1 = 20\n",
    "x2 = 30\n",
    "x3 = x1+x2\n",
    "print(x3)\n"
   ]
  },
  {
   "cell_type": "code",
   "execution_count": 7,
   "id": "85ebfb18",
   "metadata": {},
   "outputs": [
    {
     "name": "stdout",
     "output_type": "stream",
     "text": [
      "30\n"
     ]
    }
   ],
   "source": [
    "x1 = x1 + 10\n",
    "print(x1)"
   ]
  },
  {
   "cell_type": "code",
   "execution_count": 8,
   "id": "e0f3258b",
   "metadata": {},
   "outputs": [
    {
     "name": "stdout",
     "output_type": "stream",
     "text": [
      "14.4\n"
     ]
    }
   ],
   "source": [
    "d = 9\n",
    "b = 1.6\n",
    "c = b*d\n",
    "print(c)"
   ]
  },
  {
   "cell_type": "code",
   "execution_count": 9,
   "id": "7dcbbcd5",
   "metadata": {},
   "outputs": [
    {
     "data": {
      "text/plain": [
       "int"
      ]
     },
     "execution_count": 9,
     "metadata": {},
     "output_type": "execute_result"
    }
   ],
   "source": [
    "type(d)\n"
   ]
  },
  {
   "cell_type": "code",
   "execution_count": 10,
   "id": "964fb6c6",
   "metadata": {},
   "outputs": [
    {
     "data": {
      "text/plain": [
       "float"
      ]
     },
     "execution_count": 10,
     "metadata": {},
     "output_type": "execute_result"
    }
   ],
   "source": [
    "type(b)"
   ]
  },
  {
   "cell_type": "code",
   "execution_count": 11,
   "id": "94f4c75d",
   "metadata": {},
   "outputs": [
    {
     "data": {
      "text/plain": [
       "float"
      ]
     },
     "execution_count": 11,
     "metadata": {},
     "output_type": "execute_result"
    }
   ],
   "source": [
    "type(c)"
   ]
  },
  {
   "cell_type": "code",
   "execution_count": 15,
   "id": "775945ad",
   "metadata": {},
   "outputs": [
    {
     "name": "stdout",
     "output_type": "stream",
     "text": [
      "6\n"
     ]
    }
   ],
   "source": [
    "y = int(6)\n",
    "print(y)"
   ]
  },
  {
   "cell_type": "code",
   "execution_count": 18,
   "id": "32262199",
   "metadata": {
    "scrolled": true
   },
   "outputs": [
    {
     "name": "stdout",
     "output_type": "stream",
     "text": [
      "hola\n"
     ]
    }
   ],
   "source": [
    "s = 'hola'\n",
    "print(s)"
   ]
  },
  {
   "cell_type": "code",
   "execution_count": 20,
   "id": "381426df",
   "metadata": {},
   "outputs": [
    {
     "data": {
      "text/plain": [
       "str"
      ]
     },
     "execution_count": 20,
     "metadata": {},
     "output_type": "execute_result"
    }
   ],
   "source": [
    "type(s)"
   ]
  },
  {
   "cell_type": "code",
   "execution_count": 21,
   "id": "4b012e73",
   "metadata": {},
   "outputs": [
    {
     "name": "stdout",
     "output_type": "stream",
     "text": [
      "'It's a nice way to meet you'\n"
     ]
    }
   ],
   "source": [
    "#It's a nice way to meet you\n",
    "\n",
    "x1 = \"'It's a nice way to meet you'\" \n",
    "print(x1)\n",
    "#<--- syntax in order to add ' ' inside the code,\n",
    "# 'IT'S' a nice way to meet you' <-- error\n",
    "\n"
   ]
  },
  {
   "cell_type": "code",
   "execution_count": 25,
   "id": "c36cb398",
   "metadata": {},
   "outputs": [
    {
     "name": "stdout",
     "output_type": "stream",
     "text": [
      "It's a nice way to meet you \"at the university\"\n"
     ]
    }
   ],
   "source": [
    "x2 = \"It's a nice way to meet you \\\"at the university\\\"\"\n",
    "print(x2)"
   ]
  },
  {
   "cell_type": "code",
   "execution_count": 31,
   "id": "69699548",
   "metadata": {},
   "outputs": [
    {
     "name": "stdout",
     "output_type": "stream",
     "text": [
      "2.982342\n"
     ]
    }
   ],
   "source": [
    "initialVelocity = 5\n",
    "time = 0.6\n",
    "g = 9.81 * 0.01\n",
    "\n",
    "y = (initialVelocity*time) - (0.5*g*(time**2))\n",
    "print(y)"
   ]
  },
  {
   "cell_type": "code",
   "execution_count": 32,
   "id": "de0ffc5d",
   "metadata": {},
   "outputs": [
    {
     "name": "stdout",
     "output_type": "stream",
     "text": [
      "the results are: 2.982342 m\n"
     ]
    }
   ],
   "source": [
    "res = str(y)\n",
    "res1 = \"the results are: \" +res + \" m\"\n",
    "print(res1)"
   ]
  },
  {
   "cell_type": "code",
   "execution_count": 33,
   "id": "faa5844a",
   "metadata": {},
   "outputs": [
    {
     "name": "stdout",
     "output_type": "stream",
     "text": [
      "167168976695150563684574748508596771564470499421934775907373109524789858414353661175835744726205484201354125093593102381784953035973081\n"
     ]
    }
   ],
   "source": [
    "x = 12929384234956843592852389463894638491834619384691386491836498126491\n",
    "\n",
    "x = x**2\n",
    "\n",
    "print(x)"
   ]
  },
  {
   "cell_type": "code",
   "execution_count": 34,
   "id": "7d69e8c4",
   "metadata": {},
   "outputs": [
    {
     "name": "stdout",
     "output_type": "stream",
     "text": [
      "1.23e-49\n"
     ]
    }
   ],
   "source": [
    "x = 0.000000000000000000000000000000000000000000000000123\n",
    "print(x)"
   ]
  },
  {
   "cell_type": "code",
   "execution_count": 35,
   "id": "9b2cfc9c",
   "metadata": {},
   "outputs": [
    {
     "name": "stdout",
     "output_type": "stream",
     "text": [
      "2.99e-297\n"
     ]
    }
   ],
   "source": [
    "x1 = 2.99e-297\n",
    "\n",
    "print(x1)"
   ]
  },
  {
   "cell_type": "code",
   "execution_count": 38,
   "id": "85679560",
   "metadata": {},
   "outputs": [
    {
     "name": "stdout",
     "output_type": "stream",
     "text": [
      "0.0\n"
     ]
    }
   ],
   "source": [
    "x3 = 2.99e-700\n",
    "print(x3)"
   ]
  },
  {
   "cell_type": "code",
   "execution_count": 39,
   "id": "d3c77ae3",
   "metadata": {},
   "outputs": [
    {
     "name": "stdout",
     "output_type": "stream",
     "text": [
      "2.9989898972220005e-30\n"
     ]
    }
   ],
   "source": [
    "x1 = 2.9989898972220002\n",
    "x2 = 0.000000000000000000000000000001\n",
    "\n",
    "x3 = x1*x2\n",
    "print(x3)"
   ]
  },
  {
   "cell_type": "code",
   "execution_count": 40,
   "id": "cf4abf85",
   "metadata": {},
   "outputs": [
    {
     "name": "stdout",
     "output_type": "stream",
     "text": [
      "43800\n"
     ]
    }
   ],
   "source": [
    "x = 0xAB18\n",
    "print(x)"
   ]
  },
  {
   "cell_type": "code",
   "execution_count": 43,
   "id": "57cd4e8d",
   "metadata": {},
   "outputs": [
    {
     "name": "stdout",
     "output_type": "stream",
     "text": [
      "5.0\n",
      "0\n"
     ]
    }
   ],
   "source": [
    "x = 15\n",
    "y = 3\n",
    "z = x/y\n",
    "t = x%y\n",
    "print(z)\n",
    "print(t)"
   ]
  },
  {
   "cell_type": "code",
   "execution_count": 44,
   "id": "be0440fb",
   "metadata": {},
   "outputs": [
    {
     "name": "stdout",
     "output_type": "stream",
     "text": [
      "-28\n"
     ]
    }
   ],
   "source": [
    "x = 8\n",
    "y = 18\n",
    "z = -2\n",
    "v = x + y * z\n",
    "print(v)"
   ]
  },
  {
   "cell_type": "code",
   "execution_count": 46,
   "id": "ff784b24",
   "metadata": {},
   "outputs": [
    {
     "name": "stdout",
     "output_type": "stream",
     "text": [
      "11j\n"
     ]
    }
   ],
   "source": [
    "x1 = 3 + 5j\n",
    "x2 = -3 + 6j\n",
    "\n",
    "x3 = x1 + x2\n",
    "print(x3)\n"
   ]
  },
  {
   "cell_type": "code",
   "execution_count": 47,
   "id": "b0372d02",
   "metadata": {},
   "outputs": [
    {
     "name": "stdout",
     "output_type": "stream",
     "text": [
      "(0.4666666666666667-0.7333333333333333j)\n"
     ]
    }
   ],
   "source": [
    "x3 = x1/x2\n",
    "print(x3)"
   ]
  },
  {
   "cell_type": "code",
   "execution_count": 51,
   "id": "492484a2",
   "metadata": {},
   "outputs": [
    {
     "name": "stdout",
     "output_type": "stream",
     "text": [
      "Donald Trump\n"
     ]
    }
   ],
   "source": [
    "x1 = \"Donald\"\n",
    "x2 = \"Trump\"\n",
    "x3 = x1 +\" \"+ x2\n",
    "print(x3)"
   ]
  },
  {
   "cell_type": "code",
   "execution_count": 52,
   "id": "742a2e83",
   "metadata": {},
   "outputs": [],
   "source": [
    "x3 = x1 * 4"
   ]
  },
  {
   "cell_type": "code",
   "execution_count": 53,
   "id": "6204498d",
   "metadata": {},
   "outputs": [
    {
     "name": "stdout",
     "output_type": "stream",
     "text": [
      "DonaldDonaldDonaldDonald\n"
     ]
    }
   ],
   "source": [
    "print(x3)"
   ]
  },
  {
   "cell_type": "code",
   "execution_count": 54,
   "id": "e47c962d",
   "metadata": {},
   "outputs": [
    {
     "ename": "TypeError",
     "evalue": "unsupported operand type(s) for /: 'str' and 'int'",
     "output_type": "error",
     "traceback": [
      "\u001b[0;31m---------------------------------------------------------------------------\u001b[0m",
      "\u001b[0;31mTypeError\u001b[0m                                 Traceback (most recent call last)",
      "Input \u001b[0;32mIn [54]\u001b[0m, in \u001b[0;36m<cell line: 1>\u001b[0;34m()\u001b[0m\n\u001b[0;32m----> 1\u001b[0m x3 \u001b[38;5;241m=\u001b[39m \u001b[43mx1\u001b[49m\u001b[43m \u001b[49m\u001b[38;5;241;43m/\u001b[39;49m\u001b[43m \u001b[49m\u001b[38;5;241;43m4\u001b[39;49m\n\u001b[1;32m      2\u001b[0m \u001b[38;5;28mprint\u001b[39m(x3)\n",
      "\u001b[0;31mTypeError\u001b[0m: unsupported operand type(s) for /: 'str' and 'int'"
     ]
    }
   ],
   "source": [
    "x3 = x1 / 4"
   ]
  },
  {
   "cell_type": "code",
   "execution_count": 55,
   "id": "c099376c",
   "metadata": {},
   "outputs": [
    {
     "name": "stdout",
     "output_type": "stream",
     "text": [
      "False\n"
     ]
    }
   ],
   "source": [
    "x = True\n",
    "y = False\n",
    "\n",
    "z = x & y\n",
    "print(z)"
   ]
  },
  {
   "cell_type": "code",
   "execution_count": 2,
   "id": "4f7f0396",
   "metadata": {},
   "outputs": [
    {
     "name": "stdout",
     "output_type": "stream",
     "text": [
      "-0.5020844311905129\n"
     ]
    }
   ],
   "source": [
    "import math\n",
    "x = 3.6676\n",
    "x1 = math.sin(x)\n",
    "print(x1)"
   ]
  },
  {
   "cell_type": "code",
   "execution_count": null,
   "id": "cdda9fb9",
   "metadata": {},
   "outputs": [],
   "source": []
  }
 ],
 "metadata": {
  "kernelspec": {
   "display_name": "Python 3 (ipykernel)",
   "language": "python",
   "name": "python3"
  },
  "language_info": {
   "codemirror_mode": {
    "name": "ipython",
    "version": 3
   },
   "file_extension": ".py",
   "mimetype": "text/x-python",
   "name": "python",
   "nbconvert_exporter": "python",
   "pygments_lexer": "ipython3",
   "version": "3.9.12"
  }
 },
 "nbformat": 4,
 "nbformat_minor": 5
}
