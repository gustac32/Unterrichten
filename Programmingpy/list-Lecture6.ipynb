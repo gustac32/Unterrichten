{
 "cells": [
  {
   "cell_type": "code",
   "execution_count": 1,
   "id": "446b8e96",
   "metadata": {},
   "outputs": [
    {
     "name": "stdout",
     "output_type": "stream",
     "text": [
      "2.5\n"
     ]
    }
   ],
   "source": [
    "a = 5\n",
    "b = a/2\n",
    "print(b)\n",
    "\n"
   ]
  },
  {
   "cell_type": "code",
   "execution_count": 2,
   "id": "939efb2e",
   "metadata": {},
   "outputs": [],
   "source": [
    "l = [2,8,9]\n",
    "r = [4.9,\"The\", True]"
   ]
  },
  {
   "cell_type": "code",
   "execution_count": 8,
   "id": "ab9497c2",
   "metadata": {},
   "outputs": [],
   "source": [
    "m = []"
   ]
  },
  {
   "cell_type": "code",
   "execution_count": 9,
   "id": "4bf82903",
   "metadata": {},
   "outputs": [],
   "source": [
    "m.append(1)\n",
    "m.append(3.5)"
   ]
  },
  {
   "cell_type": "code",
   "execution_count": 22,
   "id": "66dc1a8f",
   "metadata": {},
   "outputs": [
    {
     "name": "stdout",
     "output_type": "stream",
     "text": [
      "[1, 2, 3, 4, 5]\n"
     ]
    }
   ],
   "source": [
    "m = []\n",
    "for i in range(1,6):\n",
    "    m.append(i)\n",
    "print(m)"
   ]
  },
  {
   "cell_type": "code",
   "execution_count": 23,
   "id": "5de726b1",
   "metadata": {},
   "outputs": [
    {
     "name": "stdout",
     "output_type": "stream",
     "text": [
      "[1, 2, 4, 5]\n"
     ]
    }
   ],
   "source": [
    "m.remove(3)\n",
    "print(m)"
   ]
  },
  {
   "cell_type": "code",
   "execution_count": 24,
   "id": "2733a9d5",
   "metadata": {},
   "outputs": [],
   "source": [
    "m.append(3)\n",
    "m.append(7)\n",
    "m.append(3)"
   ]
  },
  {
   "cell_type": "code",
   "execution_count": 25,
   "id": "336cfb63",
   "metadata": {},
   "outputs": [
    {
     "name": "stdout",
     "output_type": "stream",
     "text": [
      "[1, 2, 4, 5, 7, 3]\n"
     ]
    }
   ],
   "source": [
    "m.remove(3)\n",
    "print(m)"
   ]
  },
  {
   "cell_type": "code",
   "execution_count": 19,
   "id": "7f1d37a0",
   "metadata": {},
   "outputs": [
    {
     "data": {
      "text/plain": [
       "4"
      ]
     },
     "execution_count": 19,
     "metadata": {},
     "output_type": "execute_result"
    }
   ],
   "source": [
    "m.index(7)"
   ]
  },
  {
   "cell_type": "code",
   "execution_count": 26,
   "id": "1c3bae7f",
   "metadata": {},
   "outputs": [],
   "source": [
    "m.insert(5,8)"
   ]
  },
  {
   "cell_type": "code",
   "execution_count": 27,
   "id": "18daf295",
   "metadata": {},
   "outputs": [
    {
     "name": "stdout",
     "output_type": "stream",
     "text": [
      "[1, 2, 4, 5, 7, 8, 3]\n"
     ]
    }
   ],
   "source": [
    "print(m)"
   ]
  },
  {
   "cell_type": "code",
   "execution_count": 29,
   "id": "85d74a06",
   "metadata": {},
   "outputs": [],
   "source": [
    "m.reverse()"
   ]
  },
  {
   "cell_type": "code",
   "execution_count": 30,
   "id": "7ae2d3ea",
   "metadata": {},
   "outputs": [
    {
     "name": "stdout",
     "output_type": "stream",
     "text": [
      "[3, 8, 7, 5, 4, 2, 1]\n"
     ]
    }
   ],
   "source": [
    "print(m)"
   ]
  },
  {
   "cell_type": "code",
   "execution_count": 31,
   "id": "9e120260",
   "metadata": {},
   "outputs": [],
   "source": [
    "m.sort()"
   ]
  },
  {
   "cell_type": "code",
   "execution_count": 32,
   "id": "9eeff764",
   "metadata": {},
   "outputs": [
    {
     "name": "stdout",
     "output_type": "stream",
     "text": [
      "[1, 2, 3, 4, 5, 7, 8]\n"
     ]
    }
   ],
   "source": [
    "print(m)"
   ]
  },
  {
   "cell_type": "code",
   "execution_count": 35,
   "id": "0b4d4ad4",
   "metadata": {},
   "outputs": [],
   "source": [
    "m.append(4)\n",
    "m.append(48)\n",
    "m.append(9)"
   ]
  },
  {
   "cell_type": "code",
   "execution_count": 38,
   "id": "f5eff9f2",
   "metadata": {},
   "outputs": [
    {
     "name": "stdout",
     "output_type": "stream",
     "text": [
      "[1, 2, 3, 4, 5, 7]\n"
     ]
    }
   ],
   "source": [
    "n = []\n",
    "for i in range(0,6):\n",
    "    n.append(m[i])\n",
    "    \n",
    "print(n)"
   ]
  },
  {
   "cell_type": "code",
   "execution_count": 2,
   "id": "1a435ea1",
   "metadata": {},
   "outputs": [
    {
     "name": "stdout",
     "output_type": "stream",
     "text": [
      "[1, 9, 25, 49, 81, 121, 169, 225, 289, 361]\n"
     ]
    }
   ],
   "source": [
    "odd = []\n",
    "for i in range(0,20):\n",
    "    if i% 2 != 0:\n",
    "        odd.append(i * i)\n",
    "print(odd)"
   ]
  },
  {
   "cell_type": "code",
   "execution_count": 3,
   "id": "b110212a",
   "metadata": {},
   "outputs": [
    {
     "name": "stdout",
     "output_type": "stream",
     "text": [
      "[1, 9, 25, 49, 81, 121, 169, 225, 289, 361]\n"
     ]
    }
   ],
   "source": [
    "odd1 = [x**2 for x in range(0,20) if x%2 != 0]\n",
    "print(odd1)"
   ]
  },
  {
   "cell_type": "code",
   "execution_count": 9,
   "id": "7b051c61",
   "metadata": {},
   "outputs": [
    {
     "name": "stdout",
     "output_type": "stream",
     "text": [
      "[0, 9, 36, 81, 144, 225, 324]\n"
     ]
    }
   ],
   "source": [
    "List = [i**2 for i in range(0,20) if i%3 ==0]\n",
    "print(List)"
   ]
  },
  {
   "cell_type": "code",
   "execution_count": null,
   "id": "6a834fe4",
   "metadata": {},
   "outputs": [],
   "source": []
  }
 ],
 "metadata": {
  "kernelspec": {
   "display_name": "Python 3 (ipykernel)",
   "language": "python",
   "name": "python3"
  },
  "language_info": {
   "codemirror_mode": {
    "name": "ipython",
    "version": 3
   },
   "file_extension": ".py",
   "mimetype": "text/x-python",
   "name": "python",
   "nbconvert_exporter": "python",
   "pygments_lexer": "ipython3",
   "version": "3.9.12"
  }
 },
 "nbformat": 4,
 "nbformat_minor": 5
}
