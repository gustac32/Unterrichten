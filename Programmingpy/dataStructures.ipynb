{
 "cells": [
  {
   "cell_type": "code",
   "execution_count": 2,
   "id": "a4835062",
   "metadata": {},
   "outputs": [
    {
     "name": "stdout",
     "output_type": "stream",
     "text": [
      "[2, 5.7, 5.8, -9.9, 10.8, 7]\n",
      "-9.9\n",
      "7\n",
      "2\n",
      "5.7\n",
      "5.8\n",
      "-9.9\n",
      "10.8\n",
      "7\n",
      "2\n",
      "5.7\n",
      "5.8\n",
      "-9.9\n",
      "10.8\n",
      "7\n"
     ]
    }
   ],
   "source": [
    "a1 = 2\n",
    "a2 = 5.7\n",
    "a3 = 5.8\n",
    "a4 = -9.9\n",
    "a5 = 10.8\n",
    "a6 = 7\n",
    "\n",
    "#Array/Vector, in python list and array create an array list\n",
    "\n",
    "dontknow = [a1,a2,a3,a4,a5,a6]\n",
    "print(dontknow)\n",
    "\n",
    "x = min(dontknow)\n",
    "print(x)\n",
    "print(dontknow[5])\n",
    "\n",
    "for i in range(0,6):\n",
    "    print(dontknow[i])\n",
    "\n",
    "for t in dontknow:\n",
    "    print(t)"
   ]
  },
  {
   "cell_type": "code",
   "execution_count": 13,
   "id": "d0a6f64f",
   "metadata": {},
   "outputs": [
    {
     "name": "stdout",
     "output_type": "stream",
     "text": [
      "[1.2, 2.34, 5.4, 6.4, 9.2, 3.55, 4.2, 4.9, 4.32, 5.99, 4.5]\n",
      "1.2\n",
      "2.34\n",
      "5.4\n",
      "6.4\n",
      "9.2\n",
      "3.55\n",
      "4.2\n",
      "4.9\n",
      "4.32\n",
      "5.99\n",
      "4.5\n",
      "the minimum values is: 1.2  the maxmimum value is: 9.2\n"
     ]
    }
   ],
   "source": [
    "#array size 10\n",
    "\n",
    "a0 = 1.2\n",
    "a1 = 2.34\n",
    "a2 = 5.4\n",
    "a3 = 6.4\n",
    "a4 = 9.2\n",
    "a5 = 3.55\n",
    "a6 = 4.2\n",
    "a7 = 4.9\n",
    "a8 = 4.32\n",
    "a9 = 5.99\n",
    "a10 = 4.5\n",
    "\n",
    "ai = [a0,a1,a2,a3,a4,a5,a6,a7,a8,a9,a10]\n",
    "print(ai)\n",
    "t = float(0)\n",
    "\n",
    "def arrayTest(ai):\n",
    "    for t in ai:\n",
    "        print(t)\n",
    "arrayTest(ai)\n",
    "\n",
    "def minAndmax(ai):\n",
    "    xmin = min(ai)\n",
    "    xmax = max(ai)\n",
    "    print(\"the minimum values is:\"+\"\",xmin,\" the maxmimum value is:\" +\"\",xmax)\n",
    "\n",
    "minAndmax(ai)"
   ]
  },
  {
   "cell_type": "code",
   "execution_count": 14,
   "id": "01db3bb8",
   "metadata": {},
   "outputs": [
    {
     "name": "stdout",
     "output_type": "stream",
     "text": [
      "[0.0, 0.0, 0.0, 0.0, 3.55, 0.0, 0.0, 0.0, 6.9, 0.0]\n"
     ]
    }
   ],
   "source": [
    "#other waY\n",
    "arr = [0.0]*10\n",
    "arr[4] = 3.55\n",
    "arr[8] = 6.9\n",
    "print(arr)\n"
   ]
  },
  {
   "cell_type": "code",
   "execution_count": 63,
   "id": "e5dd2558",
   "metadata": {},
   "outputs": [
    {
     "name": "stdout",
     "output_type": "stream",
     "text": [
      "[3.5, 7.9, 0.0, -7.9, 10.99, 78.99, 66.8, 19.01, 18.9, 99.7]\n",
      "5\n",
      "[3.5, 7.9, 0.0, -7.9, 10.99, 78.99, 66.8, 19.01, 18.9, 99.7]\n"
     ]
    }
   ],
   "source": [
    "#dont know\n",
    "\n",
    "x = [0.0]*10\n",
    "\n",
    "x[0] = 3.5\n",
    "x[1] = 7.9\n",
    "x[2] = 0.0\n",
    "x[3] = -7.9\n",
    "x[4] = 10.99\n",
    "x[5] = 78.99\n",
    "x[6] = 66.8\n",
    "x[7] = 19.01\n",
    "x[8] = 18.9\n",
    "x[9] = 99.7\n",
    "\n",
    "a = len(x)//2\n",
    "print(x)\n",
    "print(a)\n",
    "\n",
    "for i in range(0,a):\n",
    "    t = x[i]\n",
    "    x[i] = x[a - 1 - i]\n",
    "    x[a - 1 - i] = t\n",
    "print(x)"
   ]
  },
  {
   "cell_type": "code",
   "execution_count": 61,
   "id": "8d9c1b02",
   "metadata": {},
   "outputs": [
    {
     "name": "stdout",
     "output_type": "stream",
     "text": [
      "[[2.5, 6.7], [4.7, 8.8], [4.8, -26], [45, 77]]\n",
      "2.5\n",
      "6.7\n",
      "4.7\n",
      "8.8\n",
      "4.8\n",
      "-26\n",
      "45\n",
      "77\n",
      "-26\n"
     ]
    }
   ],
   "source": [
    "m = 4\n",
    "n = 2\n",
    "\n",
    "arr2d = [\n",
    "    [2.5,6.7],\n",
    "    [4.7,8.8],\n",
    "    [4.8,-26],\n",
    "    [45,77]\n",
    "]\n",
    "print(arr2d)\n",
    "\n",
    "for i in arr2d:\n",
    "    for j in i:\n",
    "        print(j)\n",
    "\n",
    "print(arr2d[2][1]) #[rows][columns]"
   ]
  },
  {
   "cell_type": "code",
   "execution_count": null,
   "id": "c62821ef",
   "metadata": {},
   "outputs": [],
   "source": [
    "#lists in python used to organize objects\n"
   ]
  }
 ],
 "metadata": {
  "kernelspec": {
   "display_name": "Python 3 (ipykernel)",
   "language": "python",
   "name": "python3"
  },
  "language_info": {
   "codemirror_mode": {
    "name": "ipython",
    "version": 3
   },
   "file_extension": ".py",
   "mimetype": "text/x-python",
   "name": "python",
   "nbconvert_exporter": "python",
   "pygments_lexer": "ipython3",
   "version": "3.9.12"
  }
 },
 "nbformat": 4,
 "nbformat_minor": 5
}
