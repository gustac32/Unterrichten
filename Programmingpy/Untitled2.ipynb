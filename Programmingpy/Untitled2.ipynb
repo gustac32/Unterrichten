{
 "cells": [
  {
   "cell_type": "code",
   "execution_count": 12,
   "id": "898c293c",
   "metadata": {},
   "outputs": [
    {
     "name": "stdout",
     "output_type": "stream",
     "text": [
      "Hello my name is: John Dow ,My age is: 20 ,I study at UE University ,My GPA is 1.05\n"
     ]
    }
   ],
   "source": [
    "#python\n",
    "\n",
    "FirstName = \"John\"\n",
    "secondName = \"Dow\"\n",
    "age = \"20\"\n",
    "University = \"UE University\"\n",
    "gpa1 = 0.0\n",
    "gpa2 = 0.0\n",
    "gpa3 = 0.0\n",
    "gpa4 = 0.0\n",
    "\n",
    "def gpa(gpa1,gpa2,gpa3,gpa4):\n",
    "    gpa = (gpa1 + gpa2 + gpa3 + gpa4)/4\n",
    "    gpaMax = str(gpa)\n",
    "    print(\"Hello my name is:\" + \" \" + FirstName + \" \" + secondName +\" \"+ \",My age is:\" + \" \" +age+ \" \" +\",I study at\"\n",
    "         +\" \"+University+\" \"+\",My GPA is\" + \" \" +gpaMax)\n",
    "gpa(1,1,1,1.2)"
   ]
  },
  {
   "cell_type": "code",
   "execution_count": null,
   "id": "9bf2c0c2",
   "metadata": {},
   "outputs": [],
   "source": []
  }
 ],
 "metadata": {
  "kernelspec": {
   "display_name": "Python 3 (ipykernel)",
   "language": "python",
   "name": "python3"
  },
  "language_info": {
   "codemirror_mode": {
    "name": "ipython",
    "version": 3
   },
   "file_extension": ".py",
   "mimetype": "text/x-python",
   "name": "python",
   "nbconvert_exporter": "python",
   "pygments_lexer": "ipython3",
   "version": "3.9.12"
  }
 },
 "nbformat": 4,
 "nbformat_minor": 5
}
