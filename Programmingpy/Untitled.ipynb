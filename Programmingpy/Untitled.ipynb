{
 "cells": [
  {
   "cell_type": "code",
   "execution_count": 59,
   "id": "48eb8444",
   "metadata": {},
   "outputs": [
    {
     "name": "stdout",
     "output_type": "stream",
     "text": [
      "22\n",
      "22\n",
      "2\n",
      "x1 = -0.10113798239126716\n",
      "x2 = -0.898862017608733\n"
     ]
    }
   ],
   "source": [
    "import math\n",
    "import sys\n",
    "\n",
    "def testR():\n",
    "    x = int(input())\n",
    "    y = int(input())\n",
    "    z = int(input())\n",
    "    discri = (y * y) - (4*x*z)\n",
    "    if discri < 0:\n",
    "        sys.exit(\"imaginario\")\n",
    "        system.exit()\n",
    "    elif discri >= 0:\n",
    "        sqrtval = math.sqrt(discri)\n",
    "        \n",
    "    cuadr = ((-y + sqrtval))/(2*x)\n",
    "    cuad  = ((-y - sqrtval))/(2*x)\n",
    "    x1 = \"x1 =\"\n",
    "    x2 = \"x2 =\"\n",
    "    print(x1 + \" \" + str(cuadr))\n",
    "    print(x2 + \" \" + str(cuad))\n",
    "testR()\n"
   ]
  },
  {
   "cell_type": "markdown",
   "id": "daa9a5c3",
   "metadata": {},
   "source": []
  },
  {
   "cell_type": "code",
   "execution_count": null,
   "id": "e4a77496",
   "metadata": {},
   "outputs": [],
   "source": []
  },
  {
   "cell_type": "code",
   "execution_count": null,
   "id": "3b1ad420",
   "metadata": {},
   "outputs": [],
   "source": []
  },
  {
   "cell_type": "code",
   "execution_count": null,
   "id": "9a14bad7",
   "metadata": {},
   "outputs": [],
   "source": []
  },
  {
   "cell_type": "code",
   "execution_count": null,
   "id": "54272028",
   "metadata": {},
   "outputs": [],
   "source": []
  }
 ],
 "metadata": {
  "kernelspec": {
   "display_name": "Python 3 (ipykernel)",
   "language": "python",
   "name": "python3"
  },
  "language_info": {
   "codemirror_mode": {
    "name": "ipython",
    "version": 3
   },
   "file_extension": ".py",
   "mimetype": "text/x-python",
   "name": "python",
   "nbconvert_exporter": "python",
   "pygments_lexer": "ipython3",
   "version": "3.9.12"
  }
 },
 "nbformat": 4,
 "nbformat_minor": 5
}
