{
 "cells": [
  {
   "cell_type": "code",
   "execution_count": 12,
   "id": "c96cc23a",
   "metadata": {},
   "outputs": [
    {
     "name": "stdout",
     "output_type": "stream",
     "text": [
      "Hello my name is: John Dow ,My age is: 20 ,I study at UE University ,My GPA is 1.05\n"
     ]
    }
   ],
   "source": [
    "#python\n",
    "\n",
    "FirstName = \"John\"\n",
    "secondName = \"Dow\"\n",
    "age = \"20\"\n",
    "University = \"UE University\"\n",
    "gpa1 = 0.0\n",
    "gpa2 = 0.0\n",
    "gpa3 = 0.0\n",
    "gpa4 = 0.0\n",
    "\n",
    "def gpa(gpa1,gpa2,gpa3,gpa4):\n",
    "    gpa = (gpa1 + gpa2 + gpa3 + gpa4)/4\n",
    "    gpaMax = str(gpa)\n",
    "    print(\"Hello my name is:\" + \" \" + FirstName + \" \" + secondName +\" \"+ \",My age is:\" + \" \" +age+ \" \" +\",I study at\"\n",
    "         +\" \"+University+\" \"+\",My GPA is\" + \" \" +gpaMax)\n",
    "gpa(1,1,1,1.2)"
   ]
  },
  {
   "cell_type": "code",
   "execution_count": 17,
   "id": "cdbcac29",
   "metadata": {},
   "outputs": [
    {
     "name": "stdout",
     "output_type": "stream",
     "text": [
      "is this year  2021  a leap year False\n"
     ]
    }
   ],
   "source": [
    "#leap year\n",
    "\n",
    "year = 2021\n",
    "\n",
    "isLeapyear = (year % 4 == 0) & (year % 100 != 0)\n",
    "isLeapyear = isLeapyear | (year % 400 == 0)\n",
    "\n",
    "print(\"is this year\"+\" \",year,\" \"+\"a leap year\", isLeapyear)\n"
   ]
  },
  {
   "cell_type": "code",
   "execution_count": 19,
   "id": "014f3733",
   "metadata": {},
   "outputs": [
    {
     "name": "stdout",
     "output_type": "stream",
     "text": [
      "22.6\n",
      "24\n"
     ]
    }
   ],
   "source": [
    "#if statements\n",
    "\n",
    "x = 22.6\n",
    "y = 24\n",
    "\n",
    "if(x>y):\n",
    "    t = x\n",
    "    x = y\n",
    "    y = t\n",
    "print(x)\n",
    "print(y)\n",
    "    "
   ]
  },
  {
   "cell_type": "code",
   "execution_count": 23,
   "id": "f5e5c8da",
   "metadata": {},
   "outputs": [
    {
     "name": "stdout",
     "output_type": "stream",
     "text": [
      "24\n"
     ]
    }
   ],
   "source": [
    "#max\n",
    "\n",
    "x = 22.6\n",
    "y = 24\n",
    "\n",
    "if(x > y):\n",
    "    max = x\n",
    "    print(x)\n",
    "else:\n",
    "    max = y\n",
    "    print(y)\n"
   ]
  },
  {
   "cell_type": "code",
   "execution_count": 29,
   "id": "aefa881e",
   "metadata": {},
   "outputs": [
    {
     "name": "stdout",
     "output_type": "stream",
     "text": [
      "tails\n"
     ]
    }
   ],
   "source": [
    "#coin\n",
    "import random\n",
    "\n",
    "r = random.uniform(0,1)\n",
    "\n",
    "if r < 0.5:\n",
    "    print(\"head\")\n",
    "else:\n",
    "    print(\"tails\")"
   ]
  },
  {
   "cell_type": "code",
   "execution_count": 32,
   "id": "95bb9a83",
   "metadata": {},
   "outputs": [
    {
     "name": "stdout",
     "output_type": "stream",
     "text": [
      "not divisible\n"
     ]
    }
   ],
   "source": [
    "#divisible by 3\n",
    "x = 31\n",
    "\n",
    "if x % 3 == 0:\n",
    "    print(\"numbes is divisible by 3,\",x)\n",
    "else:\n",
    "    print(\"not divisible\")"
   ]
  },
  {
   "cell_type": "code",
   "execution_count": 36,
   "id": "7f35ec30",
   "metadata": {},
   "outputs": [
    {
     "name": "stdout",
     "output_type": "stream",
     "text": [
      "number is negative\n"
     ]
    }
   ],
   "source": [
    "#nested if\n",
    "\n",
    "x = -1\n",
    "\n",
    "if x == 0:\n",
    "    print(\"numbes is 0\")\n",
    "else:\n",
    "    if x < 0:\n",
    "        print(\"number is negative\")\n",
    "    else:\n",
    "        print(\"number is positive\")\n",
    "    "
   ]
  },
  {
   "cell_type": "code",
   "execution_count": 41,
   "id": "30fb6b0d",
   "metadata": {},
   "outputs": [
    {
     "name": "stdout",
     "output_type": "stream",
     "text": [
      "you owe  111139.0  €, to the IRS\n"
     ]
    }
   ],
   "source": [
    "#income tax\n",
    "income = 444556\n",
    "taxRate = 0\n",
    "if income < 0:\n",
    "    print(\"error on income\")\n",
    "elif income < 47449:\n",
    "    taxRate = 0.22\n",
    "elif income > 47450 & income < 114650:\n",
    "    taxRate = 0.25\n",
    "elif income >= 114651 & income < 174700:\n",
    "    taxRate = 0.28\n",
    "elif income > 174701 % income < 311950:\n",
    "    taxRate = 0.33\n",
    "elif income > 311951:\n",
    "    taxRate = 0.35\n",
    "\n",
    "tax = taxRate * income\n",
    "print(\"you owe \",tax,\" €, to the IRS\")\n",
    "  "
   ]
  },
  {
   "cell_type": "code",
   "execution_count": null,
   "id": "292f3e01",
   "metadata": {},
   "outputs": [],
   "source": []
  }
 ],
 "metadata": {
  "kernelspec": {
   "display_name": "Python 3 (ipykernel)",
   "language": "python",
   "name": "python3"
  },
  "language_info": {
   "codemirror_mode": {
    "name": "ipython",
    "version": 3
   },
   "file_extension": ".py",
   "mimetype": "text/x-python",
   "name": "python",
   "nbconvert_exporter": "python",
   "pygments_lexer": "ipython3",
   "version": "3.9.12"
  }
 },
 "nbformat": 4,
 "nbformat_minor": 5
}
